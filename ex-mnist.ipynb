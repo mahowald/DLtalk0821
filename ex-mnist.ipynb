{
 "cells": [
  {
   "cell_type": "code",
   "execution_count": 1,
   "metadata": {},
   "outputs": [],
   "source": [
    "import numpy as np\n",
    "import torch\n",
    "import torch.nn as nn\n",
    "import torch.nn.functional as F\n",
    "import torch.optim as optim\n",
    "import torchvision\n",
    "\n",
    "import matplotlib.pyplot as plt\n",
    "\n",
    "%matplotlib inline"
   ]
  },
  {
   "cell_type": "code",
   "execution_count": 2,
   "metadata": {},
   "outputs": [
    {
     "data": {
      "text/plain": [
       "True"
      ]
     },
     "execution_count": 2,
     "metadata": {},
     "output_type": "execute_result"
    }
   ],
   "source": [
    "torch.cuda.is_available()"
   ]
  },
  {
   "cell_type": "code",
   "execution_count": 3,
   "metadata": {},
   "outputs": [],
   "source": [
    "device = torch.device(\"cuda\")"
   ]
  },
  {
   "cell_type": "code",
   "execution_count": 4,
   "metadata": {},
   "outputs": [],
   "source": [
    "mnist_train = torchvision.datasets.MNIST(\"/tmp/training.pt\", train=True, download=True, transform=torchvision.transforms.ToTensor())\n",
    "mnist_test = torchvision.datasets.MNIST(\"/tmp/test.pt\", train=False, download=True, transform=torchvision.transforms.ToTensor())"
   ]
  },
  {
   "cell_type": "code",
   "execution_count": 5,
   "metadata": {},
   "outputs": [],
   "source": [
    "train_loader = torch.utils.data.DataLoader(mnist_train, batch_size=64, shuffle=True)\n",
    "test_loader = torch.utils.data.DataLoader(mnist_test, batch_size=1000, shuffle=True)"
   ]
  },
  {
   "cell_type": "code",
   "execution_count": 6,
   "metadata": {},
   "outputs": [],
   "source": [
    "model = nn.Sequential(\n",
    "    nn.Conv2d(1, 32, kernel_size=3),\n",
    "    nn.ReLU(),\n",
    "    nn.Conv2d(32, 64, kernel_size=3),\n",
    "    nn.ReLU(),\n",
    "    nn.MaxPool2d(kernel_size=2),\n",
    "    nn.Dropout(0.25),\n",
    "    nn.Flatten(),\n",
    "    nn.Linear(9216, 128),\n",
    "    nn.Dropout(0.5),\n",
    "    nn.ReLU(),\n",
    "    nn.Linear(128, 128),\n",
    "    nn.ReLU(),\n",
    "    nn.Linear(128, 10),\n",
    "    nn.LogSoftmax(dim=1),\n",
    ").to(device)\n",
    "\n",
    "optimizer = optim.Adadelta(model.parameters())"
   ]
  },
  {
   "cell_type": "code",
   "execution_count": 7,
   "metadata": {},
   "outputs": [],
   "source": [
    "train_losses = []\n",
    "train_counter = []\n",
    "test_losses = []\n",
    "test_counter = [i*len(train_loader.dataset) for i in range(5 + 1)]"
   ]
  },
  {
   "cell_type": "code",
   "execution_count": 8,
   "metadata": {},
   "outputs": [],
   "source": [
    "def train(network, epoch, log_interval=100):\n",
    "    network.train()\n",
    "    for batch_idx, (data, target) in enumerate(train_loader):\n",
    "        data, target = data.to(device), target.to(device)\n",
    "        optimizer.zero_grad()\n",
    "        output = network(data)\n",
    "        loss = F.nll_loss(output, target)\n",
    "        loss.backward()\n",
    "        optimizer.step()\n",
    "        if batch_idx % log_interval == 0:\n",
    "            print('Train Epoch: {} [{}/{} ({:.0f}%)]\\tLoss: {:.6f}'.format(\n",
    "            epoch, batch_idx * len(data), len(train_loader.dataset),\n",
    "            100. * batch_idx / len(train_loader), loss.item()))\n",
    "        train_losses.append(loss.item())\n",
    "        train_counter.append(\n",
    "        (batch_idx*64) + ((epoch-1)*len(train_loader.dataset)))\n",
    "\n",
    "def test(network):\n",
    "    network.eval()\n",
    "    test_loss = 0\n",
    "    correct = 0\n",
    "    with torch.no_grad():\n",
    "        for data, target in test_loader:\n",
    "            data, target = data.to(device), target.to(device)\n",
    "            output = network(data)\n",
    "            test_loss += F.nll_loss(output, target.to(device), size_average=False).item()\n",
    "            pred = output.data.max(1, keepdim=True)[1]\n",
    "            correct += pred.eq(target.data.view_as(pred)).sum()\n",
    "    test_loss /= len(test_loader.dataset)\n",
    "    test_losses.append(test_loss)\n",
    "    print(\"\\nTest set: Avg. loss: {:.4f}, Accuracy: {}/{} ({:.0f}%)\\n\".format(\n",
    "        test_loss, correct, len(test_loader.dataset),\n",
    "        100.0 * correct / len(test_loader.dataset)\n",
    "    ))"
   ]
  },
  {
   "cell_type": "code",
   "execution_count": 9,
   "metadata": {},
   "outputs": [
    {
     "name": "stderr",
     "output_type": "stream",
     "text": [
      "/home/mahowald/miniconda3/envs/academy/lib/python3.7/site-packages/torch/nn/_reduction.py:44: UserWarning: size_average and reduce args will be deprecated, please use reduction='sum' instead.\n",
      "  warnings.warn(warning.format(ret))\n"
     ]
    },
    {
     "name": "stdout",
     "output_type": "stream",
     "text": [
      "\n",
      "Test set: Avg. loss: 2.3012, Accuracy: 1010/10000 (10%)\n",
      "\n"
     ]
    }
   ],
   "source": [
    "test(model)"
   ]
  },
  {
   "cell_type": "code",
   "execution_count": 10,
   "metadata": {},
   "outputs": [
    {
     "name": "stdout",
     "output_type": "stream",
     "text": [
      "\n",
      "Test set: Avg. loss: 2.3012, Accuracy: 1010/10000 (10%)\n",
      "\n",
      "Train Epoch: 1 [0/60000 (0%)]\tLoss: 2.303124\n",
      "Train Epoch: 1 [6400/60000 (11%)]\tLoss: 0.540368\n",
      "Train Epoch: 1 [12800/60000 (21%)]\tLoss: 0.281917\n",
      "Train Epoch: 1 [19200/60000 (32%)]\tLoss: 0.105534\n",
      "Train Epoch: 1 [25600/60000 (43%)]\tLoss: 0.064929\n",
      "Train Epoch: 1 [32000/60000 (53%)]\tLoss: 0.214965\n",
      "Train Epoch: 1 [38400/60000 (64%)]\tLoss: 0.100998\n",
      "Train Epoch: 1 [44800/60000 (75%)]\tLoss: 0.039401\n",
      "Train Epoch: 1 [51200/60000 (85%)]\tLoss: 0.072721\n",
      "Train Epoch: 1 [57600/60000 (96%)]\tLoss: 0.343501\n",
      "\n",
      "Test set: Avg. loss: 0.0520, Accuracy: 9844/10000 (98%)\n",
      "\n",
      "Train Epoch: 2 [0/60000 (0%)]\tLoss: 0.061372\n",
      "Train Epoch: 2 [6400/60000 (11%)]\tLoss: 0.172254\n",
      "Train Epoch: 2 [12800/60000 (21%)]\tLoss: 0.101705\n",
      "Train Epoch: 2 [19200/60000 (32%)]\tLoss: 0.122392\n",
      "Train Epoch: 2 [25600/60000 (43%)]\tLoss: 0.067539\n",
      "Train Epoch: 2 [32000/60000 (53%)]\tLoss: 0.245676\n",
      "Train Epoch: 2 [38400/60000 (64%)]\tLoss: 0.109036\n",
      "Train Epoch: 2 [44800/60000 (75%)]\tLoss: 0.229654\n",
      "Train Epoch: 2 [51200/60000 (85%)]\tLoss: 0.084624\n",
      "Train Epoch: 2 [57600/60000 (96%)]\tLoss: 0.115060\n",
      "\n",
      "Test set: Avg. loss: 0.0503, Accuracy: 9843/10000 (98%)\n",
      "\n",
      "Train Epoch: 3 [0/60000 (0%)]\tLoss: 0.172431\n",
      "Train Epoch: 3 [6400/60000 (11%)]\tLoss: 0.109211\n",
      "Train Epoch: 3 [12800/60000 (21%)]\tLoss: 0.192601\n",
      "Train Epoch: 3 [19200/60000 (32%)]\tLoss: 0.047613\n",
      "Train Epoch: 3 [25600/60000 (43%)]\tLoss: 0.065180\n",
      "Train Epoch: 3 [32000/60000 (53%)]\tLoss: 0.017557\n",
      "Train Epoch: 3 [38400/60000 (64%)]\tLoss: 0.064806\n",
      "Train Epoch: 3 [44800/60000 (75%)]\tLoss: 0.041587\n",
      "Train Epoch: 3 [51200/60000 (85%)]\tLoss: 0.076841\n",
      "Train Epoch: 3 [57600/60000 (96%)]\tLoss: 0.024506\n",
      "\n",
      "Test set: Avg. loss: 0.0379, Accuracy: 9880/10000 (99%)\n",
      "\n",
      "Train Epoch: 4 [0/60000 (0%)]\tLoss: 0.194399\n",
      "Train Epoch: 4 [6400/60000 (11%)]\tLoss: 0.061063\n",
      "Train Epoch: 4 [12800/60000 (21%)]\tLoss: 0.068045\n",
      "Train Epoch: 4 [19200/60000 (32%)]\tLoss: 0.017171\n",
      "Train Epoch: 4 [25600/60000 (43%)]\tLoss: 0.025222\n",
      "Train Epoch: 4 [32000/60000 (53%)]\tLoss: 0.000791\n",
      "Train Epoch: 4 [38400/60000 (64%)]\tLoss: 0.010497\n",
      "Train Epoch: 4 [44800/60000 (75%)]\tLoss: 0.014766\n",
      "Train Epoch: 4 [51200/60000 (85%)]\tLoss: 0.051970\n",
      "Train Epoch: 4 [57600/60000 (96%)]\tLoss: 0.018201\n",
      "\n",
      "Test set: Avg. loss: 0.0414, Accuracy: 9875/10000 (99%)\n",
      "\n",
      "Train Epoch: 5 [0/60000 (0%)]\tLoss: 0.059215\n",
      "Train Epoch: 5 [6400/60000 (11%)]\tLoss: 0.088024\n",
      "Train Epoch: 5 [12800/60000 (21%)]\tLoss: 0.094531\n",
      "Train Epoch: 5 [19200/60000 (32%)]\tLoss: 0.004148\n",
      "Train Epoch: 5 [25600/60000 (43%)]\tLoss: 0.090375\n",
      "Train Epoch: 5 [32000/60000 (53%)]\tLoss: 0.015008\n",
      "Train Epoch: 5 [38400/60000 (64%)]\tLoss: 0.008077\n",
      "Train Epoch: 5 [44800/60000 (75%)]\tLoss: 0.004421\n",
      "Train Epoch: 5 [51200/60000 (85%)]\tLoss: 0.002281\n",
      "Train Epoch: 5 [57600/60000 (96%)]\tLoss: 0.076615\n",
      "\n",
      "Test set: Avg. loss: 0.0376, Accuracy: 9881/10000 (99%)\n",
      "\n"
     ]
    }
   ],
   "source": [
    "test(model)\n",
    "for epoch in range(1, 6):\n",
    "    train(model, epoch)\n",
    "    test(model)"
   ]
  },
  {
   "cell_type": "code",
   "execution_count": 22,
   "metadata": {},
   "outputs": [
    {
     "data": {
      "image/png": "[encoded data removed]",
      "text/plain": [
       "<Figure size 576x432 with 1 Axes>"
      ]
     },
     "metadata": {
      "needs_background": "light"
     },
     "output_type": "display_data"
    }
   ],
   "source": [
    "fig, ax = plt.subplots(figsize=(8, 6))\n",
    "\n",
    "plt.plot(train_counter, train_losses, label=\"train\")\n",
    "plt.plot(test_counter, test_losses[1:], label=\"test\")\n",
    "\n",
    "ax.legend()\n",
    "ax.grid()\n",
    "ax.set_xlabel(\"epoch\")\n",
    "ax.set_ylabel(\"loss\")\n",
    "\n",
    "plt.show()"
   ]
  },
  {
   "cell_type": "code",
   "execution_count": 23,
   "metadata": {},
   "outputs": [
    {
     "data": {
      "image/png": "[encoded data removed]",
      "text/plain": [
       "<Figure size 576x432 with 6 Axes>"
      ]
     },
     "metadata": {},
     "output_type": "display_data"
    }
   ],
   "source": [
    "fig, ax = plt.subplots(nrows=2, ncols=3, figsize=(8, 6))\n",
    "plt.tight_layout()\n",
    "\n",
    "examples = enumerate(test_loader)\n",
    "batch_idx, (example_data, example_targets) = next(examples)\n",
    "predictions = model(example_data.to(device))\n",
    "\n",
    "i = 0\n",
    "for row in ax:\n",
    "    for col in row:\n",
    "        col.imshow(example_data[i][0], cmap='gray', interpolation='none')\n",
    "        col.set_title(\"True: {}, Predict: {}\".format(example_targets[i], predictions[i].argmax()))\n",
    "        col.set_xticks([])\n",
    "        col.set_yticks([])\n",
    "        i += 1\n",
    "\n",
    "plt.show()"
   ]
  },
  {
   "cell_type": "code",
   "execution_count": null,
   "metadata": {},
   "outputs": [],
   "source": []
  }
 ],
 "metadata": {
  "kernelspec": {
   "display_name": "Python 3",
   "language": "python",
   "name": "python3"
  },
  "language_info": {
   "codemirror_mode": {
    "name": "ipython",
    "version": 3
   },
   "file_extension": ".py",
   "mimetype": "text/x-python",
   "name": "python",
   "nbconvert_exporter": "python",
   "pygments_lexer": "ipython3",
   "version": "3.7.4"
  }
 },
 "nbformat": 4,
 "nbformat_minor": 4
}
